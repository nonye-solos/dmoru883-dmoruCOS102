{
 "cells": [
  {
   "cell_type": "code",
   "execution_count": null,
   "id": "96f3cb46-4147-4bdb-9ea2-e3d60f71fb9d",
   "metadata": {},
   "outputs": [],
   "source": [
    "#Python program to print strings and types\n",
    "str1 = \"Hi my name is Matthew. I am a string\"\n",
    "str2 = 'Hi my name is Precious. I am also a string'\n",
    "\n",
    "# displaying string str1 and its type\n",
    "print(str1)\n",
    "print(type(str1))\n",
    "\n",
    "#displaying string str2 and its type\n",
    "print(str2)\n",
    "print(type(str2))"
   ]
  }
 ],
 "metadata": {
  "kernelspec": {
   "display_name": "Python 3 (ipykernel)",
   "language": "python",
   "name": "python3"
  },
  "language_info": {
   "codemirror_mode": {
    "name": "ipython",
    "version": 3
   },
   "file_extension": ".py",
   "mimetype": "text/x-python",
   "name": "python",
   "nbconvert_exporter": "python",
   "pygments_lexer": "ipython3",
   "version": "3.11.7"
  }
 },
 "nbformat": 4,
 "nbformat_minor": 5
}
