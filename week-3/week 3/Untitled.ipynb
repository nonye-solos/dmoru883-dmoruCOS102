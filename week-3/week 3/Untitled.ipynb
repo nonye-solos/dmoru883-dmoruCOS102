{
 "cells": [
  {
   "cell_type": "code",
   "execution_count": 2,
   "id": "372f87df-20d7-4e3c-9e84-17eedd7e32da",
   "metadata": {},
   "outputs": [
    {
     "name": "stdin",
     "output_type": "stream",
     "text": [
      "Enter name of City 1:  lagos\n",
      "Enter name of City 2:  dubai\n"
     ]
    },
    {
     "name": "stdout",
     "output_type": "stream",
     "text": [
      "The name of City 1 after swapping is dubai\n",
      "The name of City 2 after swapping is lagos\n"
     ]
    }
   ],
   "source": [
    "\n",
    "\n",
    "# Python program to swap two cities\n",
    "\n",
    "# To take inputs from the user\n",
    "city_1 = input(\"Enter name of City 1: \")\n",
    "city_2 = input(\"Enter name of City 2: \")\n",
    "\n",
    "# create a temporary variable and swap the cities\n",
    "temp = city_1\n",
    "city_1 = city_2\n",
    "city_2 = temp\n",
    "\n",
    "print(f\"The name of City 1 after swapping is {city_1}\")\n",
    "print(f\"The name of City 2 after swapping is {city_2}\")\n",
    "\n",
    "\n"
   ]
  },
  {
   "cell_type": "code",
   "execution_count": 3,
   "id": "a2212985-4adb-4a5e-b614-bfe7921a471c",
   "metadata": {},
   "outputs": [
    {
     "name": "stdin",
     "output_type": "stream",
     "text": [
      "Enter a number:  5\n"
     ]
    },
    {
     "name": "stdout",
     "output_type": "stream",
     "text": [
      "Positive number\n"
     ]
    }
   ],
   "source": [
    "# Program to Check if a Number is Positive, Negative, or Zero\n",
    "\n",
    "num = float(input(\"Enter a number: \"))\n",
    "\n",
    "if num > 0:\n",
    "    print(\"Positive number\")\n",
    "elif num == 0:\n",
    "    print(\"Zero\")\n",
    "else:\n",
    "    print(\"Negative number\")\n"
   ]
  },
  {
   "cell_type": "code",
   "execution_count": 4,
   "id": "d737308b-29ac-4e0b-b9a7-9694bfa4ce0a",
   "metadata": {},
   "outputs": [
    {
     "name": "stdout",
     "output_type": "stream",
     "text": [
      "Welcome to the COUPE DE ESCRIVA 2023: FOOTBALL PICKS \n",
      "\n",
      "Madiba: Chubby Obiora-Okafo\n",
      "Blue-Jays: Christopher Uweh\n",
      "Cirok: Alexander\n",
      "TSG Walkers: Ikechukwu\n",
      "\n",
      "*\n",
      "Madiba: Chubby Obiora-Okafo\n",
      "Blue-Jays: Oladimeji Abaniwondea/Jeffery Awagu\n",
      "Cirok: Timileyin Pearse/Izuako Jeremy\n",
      "TSG Walkers: Ayomide Ojituku\n"
     ]
    }
   ],
   "source": [
    "# COUPE DE ESCRIVA 2023: FOOTBALL PICKS\n",
    "print(\"Welcome to the COUPE DE ESCRIVA 2023: FOOTBALL PICKS \\n\")\n",
    "\n",
    "captain = {'Madiba': 'Chubby Obiora-Okafo', 'Blue-Jays': 'Christopher Uweh', 'Cirok': 'Alexander', 'TSG Walkers': 'Ikechukwu'}\n",
    "goalkeepers = {'Madiba': 'Chubby Obiora-Okafo', 'Blue-Jays': 'Oladimeji Abaniwondea/Jeffery Awagu', 'Cirok': 'Timileyin Pearse/Izuako Jeremy', 'TSG Walkers': 'Ayomide Ojituku'}\n",
    "\n",
    "for pick in captain:\n",
    "    print(pick + \": \" + captain[pick])\n",
    "\n",
    "print(\"\\n*\")\n",
    "\n",
    "for pick in goalkeepers:\n",
    "    print(pick + \": \" + goalkeepers[pick])"
   ]
  },
  {
   "cell_type": "code",
   "execution_count": null,
   "id": "cfa39273-9ca8-4ffc-a961-98ea8e5e27c8",
   "metadata": {},
   "outputs": [],
   "source": []
  }
 ],
 "metadata": {
  "kernelspec": {
   "display_name": "Python 3 (ipykernel)",
   "language": "python",
   "name": "python3"
  },
  "language_info": {
   "codemirror_mode": {
    "name": "ipython",
    "version": 3
   },
   "file_extension": ".py",
   "mimetype": "text/x-python",
   "name": "python",
   "nbconvert_exporter": "python",
   "pygments_lexer": "ipython3",
   "version": "3.11.7"
  }
 },
 "nbformat": 4,
 "nbformat_minor": 5
}
