{
 "cells": [
  {
   "cell_type": "code",
   "execution_count": 4,
   "id": "14e99837-aab7-4366-9c71-390035a630d8",
   "metadata": {},
   "outputs": [
    {
     "name": "stdout",
     "output_type": "stream",
     "text": [
      "2000.0\n"
     ]
    }
   ],
   "source": [
    "#simple intrest\n",
    "p = 10000.0\n",
    "r = 5.0\n",
    "t = 4\n",
    "si = (p*r*t)/100\n",
    "print(si)"
   ]
  },
  {
   "cell_type": "code",
   "execution_count": 15,
   "id": "476e960d-ab9b-453e-8da3-9989fb888bbf",
   "metadata": {},
   "outputs": [
    {
     "name": "stdout",
     "output_type": "stream",
     "text": [
      "2990333512488.443\n"
     ]
    }
   ],
   "source": [
    "#compound interest\n",
    "p = 10000.0\n",
    "r = 5.0\n",
    "t = 4.0\n",
    "n = 100.0\n",
    "ci = p*(1+(r/n))**(n*t)\n",
    "print(ci)"
   ]
  },
  {
   "cell_type": "code",
   "execution_count": 2,
   "id": "0aed9b41-695f-453a-a2c0-f5db744b4158",
   "metadata": {},
   "outputs": [
    {
     "name": "stdout",
     "output_type": "stream",
     "text": [
      "7176800405972262.0\n"
     ]
    }
   ],
   "source": [
    "#Annuity plan\n",
    "p = 10000.0\n",
    "m = 30.0\n",
    "r = 5.0\n",
    "t = 4.0\n",
    "n = 100.0\n",
    "ap = p*m*t*(((1+(r/n))**(n*t) - 1)/(r/n))\n",
    "print(ap)"
   ]
  }
 ],
 "metadata": {
  "kernelspec": {
   "display_name": "Python 3 (ipykernel)",
   "language": "python",
   "name": "python3"
  },
  "language_info": {
   "codemirror_mode": {
    "name": "ipython",
    "version": 3
   },
   "file_extension": ".py",
   "mimetype": "text/x-python",
   "name": "python",
   "nbconvert_exporter": "python",
   "pygments_lexer": "ipython3",
   "version": "3.11.7"
  }
 },
 "nbformat": 4,
 "nbformat_minor": 5
}
